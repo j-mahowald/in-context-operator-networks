{
 "cells": [
  {
   "cell_type": "code",
   "execution_count": null,
   "metadata": {},
   "outputs": [],
   "source": [
    "import pickle\n",
    "import numpy as np\n",
    "import matplotlib.pyplot as plt\n",
    "import matplotlib.patches as patches\n",
    "import sys\n",
    "sys.path.append('../')\n",
    "from jax.config import config\n",
    "import tensorflow as tf\n",
    "import os\n",
    "os.environ['XLA_PYTHON_CLIENT_PREALLOCATE'] = 'false'\n",
    "tf.config.set_visible_devices([], device_type='GPU')\n",
    "import utils\n",
    "from plot_analysis_utils import label_map"
   ]
  },
  {
   "cell_type": "code",
   "execution_count": null,
   "metadata": {},
   "outputs": [],
   "source": [
    "figure_config = {0: {'title': 'ODE 1', 'xlabel': 'x', 'ylabel': 'y', 'ylim': [0, 0.07]},\n",
    "                1: {'title': 'ODE 2', 'xlabel': 'x', 'ylabel': 'y', 'ylim': [0, 0.07]},  \n",
    "                2: {'title': 'ODE 3', 'xlabel': 'x', 'ylabel': 'y', 'ylim': [0, 0.025]},\n",
    "                }"
   ]
  },
  {
   "cell_type": "code",
   "execution_count": null,
   "metadata": {},
   "outputs": [],
   "source": [
    "analysis_folder = \"../analysis/analysis0511a-v4-ind\"\n",
    "stamp = \"20230515-094404_1000000\"\n",
    "dataset_name = \"data0511a\"\n",
    "patterns_list = [['ode', 'series'], ['pde'], ['mfc']]"
   ]
  },
  {
   "cell_type": "code",
   "execution_count": null,
   "metadata": {},
   "outputs": [],
   "source": [
    "def pattern_match(patterns, name):\n",
    "    for pattern in patterns:\n",
    "        if pattern in name:\n",
    "            return True\n",
    "    return False"
   ]
  },
  {
   "cell_type": "code",
   "execution_count": null,
   "metadata": {},
   "outputs": [],
   "source": [
    "# for arxiv version, the captions are below the figures\n",
    "for fi, patterns in enumerate(patterns_list):\n",
    "  fig, ax = plt.subplots(figsize=(4,5))\n",
    "  error_record = {}\n",
    "  for demo_num in [1,2,3,4,5]:\n",
    "    with open(\"{}/err_{}_{}_{}_{}.pickle\".format(analysis_folder, stamp, dataset_name, demo_num, demo_num + 1), 'rb') as file:\n",
    "      results = pickle.load(file)\n",
    "    \n",
    "    for key, value in results.items():\n",
    "      if pattern_match(patterns, key): # key match the patterns\n",
    "        if key not in error_record:\n",
    "            error_record[key] = []\n",
    "        error_record[key].append(value[\"relative_error_mean\"])\n",
    "\n",
    "  for key,relative_error_mean in error_record.items():\n",
    "    new_err_mean = np.array(relative_error_mean)\n",
    "    demo_num_list = (1,2,3,4,5)  \n",
    "    ax.plot( demo_num_list, new_err_mean, label=label_map[key]['legend'], \n",
    "                                          linestyle= label_map[key]['linestyle'],\n",
    "                                          marker= label_map[key]['marker'], markersize=7)\n",
    "\n",
    "  ax.set_xticks(range(1,len(demo_num_list)+1))\n",
    "  ax.set_xlabel('number of demos')\n",
    "  ax.set_ylabel('relative error')\n",
    "  ax.set_ylim(figure_config[fi]['ylim'])\n",
    "  # plt.grid()\n",
    "  # ax.legend(ncols = 2,loc='upper center', bbox_to_anchor=(0.5, -0.2), fontsize = 10)\n",
    "  # ax.legend(loc='center left', bbox_to_anchor=(1, 0.5), fontsize = 10)\n",
    "  ax.legend(loc='upper center', bbox_to_anchor=(0.5, -0.2), fontsize = 10)\n",
    "  plt.subplots_adjust(bottom=0.46, left = 0.2, right = 0.95, top = 0.95)\n",
    "  # plt.tight_layout()\n",
    "  plt.savefig('{}/ind_err_{}_err.pdf'.format(analysis_folder, fi))\n",
    "  plt.close('all')\n"
   ]
  },
  {
   "cell_type": "code",
   "execution_count": null,
   "metadata": {},
   "outputs": [],
   "source": [
    "# for formal version, the captions are to the right of the figures\n",
    "for fi, patterns in enumerate(patterns_list):\n",
    "  fig, ax = plt.subplots(figsize=(7,2.5))\n",
    "  error_record = {}\n",
    "  for demo_num in [1,2,3,4,5]:\n",
    "    with open(\"{}/err_{}_{}_{}_{}.pickle\".format(analysis_folder, stamp, dataset_name, demo_num, demo_num + 1), 'rb') as file:\n",
    "      results = pickle.load(file)\n",
    "    \n",
    "    for key, value in results.items():\n",
    "      if pattern_match(patterns, key): # key match the patterns\n",
    "        if key not in error_record:\n",
    "            error_record[key] = []\n",
    "        error_record[key].append(value[\"relative_error_mean\"])\n",
    "\n",
    "  for key,relative_error_mean in error_record.items():\n",
    "    new_err_mean = np.array(relative_error_mean)\n",
    "    demo_num_list = (1,2,3,4,5)  \n",
    "    ax.plot( demo_num_list, new_err_mean, label=label_map[key]['legend'], \n",
    "                                          linestyle= label_map[key]['linestyle'],\n",
    "                                          marker= label_map[key]['marker'], markersize=7)\n",
    "\n",
    "  ax.set_xticks(range(1,len(demo_num_list)+1))\n",
    "  ax.set_xlabel('number of demos')\n",
    "  ax.set_ylabel('relative error')\n",
    "  ax.set_ylim(figure_config[fi]['ylim'])\n",
    "  # plt.grid()\n",
    "  ax.legend(loc='center left', bbox_to_anchor=(1, 0.5), fontsize = 10)\n",
    "  # ax.legend(loc='upper center', bbox_to_anchor=(0.5, -0.2), fontsize = 10)\n",
    "  plt.subplots_adjust(bottom=0.17, left = 0.12, right = 0.54, top = 0.95)\n",
    "  # plt.tight_layout()\n",
    "  plt.savefig('{}/ind_err_{}_err_right.pdf'.format(analysis_folder, fi))\n",
    "  plt.close('all')\n"
   ]
  },
  {
   "cell_type": "code",
   "execution_count": null,
   "metadata": {},
   "outputs": [],
   "source": []
  }
 ],
 "metadata": {
  "kernelspec": {
   "display_name": "jaxcuda",
   "language": "python",
   "name": "python3"
  },
  "language_info": {
   "codemirror_mode": {
    "name": "ipython",
    "version": 3
   },
   "file_extension": ".py",
   "mimetype": "text/x-python",
   "name": "python",
   "nbconvert_exporter": "python",
   "pygments_lexer": "ipython3",
   "version": "3.10.9"
  },
  "orig_nbformat": 4
 },
 "nbformat": 4,
 "nbformat_minor": 2
}
