{
 "cells": [
  {
   "cell_type": "code",
   "execution_count": null,
   "metadata": {},
   "outputs": [],
   "source": [
    "import pickle\n",
    "import numpy as np\n",
    "import matplotlib.pyplot as plt\n",
    "import matplotlib.patches as patches\n",
    "import sys\n",
    "sys.path.append('../')\n",
    "from jax.config import config\n",
    "import tensorflow as tf\n",
    "import os\n",
    "os.environ['XLA_PYTHON_CLIENT_PREALLOCATE'] = 'false'\n",
    "tf.config.set_visible_devices([], device_type='GPU')"
   ]
  },
  {
   "cell_type": "code",
   "execution_count": null,
   "metadata": {},
   "outputs": [],
   "source": [
    "analysis_folder = \"../analysis/analysis0511a-v4-len\"\n",
    "runs = {\n",
    "          \"hero_v1\": {\"stamp\":\"20230412-223022_1000000\"},\n",
    "          \"hero_v2\": {\"stamp\":\"20230504-225151_1000000\"},\n",
    "          \"hero_v3\": {\"stamp\":\"20230511-215453_1000000\"},\n",
    "          \"hero_v4\": {\"stamp\":\"20230515-094404_1000000\"},\n",
    "          \"ode 2\": {\"stamp\":\"20230505-093303_200000\"},\n",
    "          \"ode 1,2\": {\"stamp\": \"20230505-174046_200000\"},\n",
    "          \"ode 2,3\": {\"stamp\": \"20230506-014920_200000\"}, \n",
    "          \"ode 1,2,3\": {\"stamp\": \"20230506-095636_200000\"},\n",
    "          \"odes, series\": {\"stamp\": \"20230509-223508_200000\"},\n",
    "          \"odes, series, pdes\": {\"stamp\": \"20230511-224540_200000\"},\n",
    "          \"all-short\": {\"stamp\": \"20230506-180338_200000\"}, \n",
    "          \"all-long\": {\"stamp\": \"20230504-225151_1000000\"}\n",
    "          }\n",
    "\n",
    "figure_config = {1: {'marker': 'o'},\n",
    "                2: {'marker': 's'},\n",
    "                3: {'marker': 'd'},\n",
    "                4: {'marker': '^'},\n",
    "                5: {'marker': '*'},\n",
    "                }\n",
    "\n",
    "datadir = 'data0511a'\n",
    "run = 'hero_v4'"
   ]
  },
  {
   "cell_type": "code",
   "execution_count": null,
   "metadata": {},
   "outputs": [],
   "source": [
    "equation = \"mfc_gparam_hj_forward22\"\n",
    "plt.figure(figsize=(4,3))\n",
    "for demo_num_begin in [1,2,3,4,5]:\n",
    "  demo_num_end = demo_num_begin + 1\n",
    "  len_list = [10, 20, 30, 40, 50, 60, 80, 100, 200, 500]\n",
    "  rerr_list = []\n",
    "\n",
    "  for this_len in len_list:\n",
    "    this_analysis_folder = f\"{analysis_folder}-{this_len}-{this_len}-{this_len}-2600\"\n",
    "    with open(f\"{this_analysis_folder}/err_{runs[run]['stamp']}_{datadir}_{demo_num_begin}_{demo_num_end}.pickle\", 'rb') as file:\n",
    "      results = pickle.load(file)\n",
    "    rerr_list.append(results[equation][\"relative_error_mean\"])\n",
    "  plt.loglog(len_list, rerr_list, label=f\"# demos = {demo_num_begin}\", linestyle = 'dotted',\n",
    "             marker= figure_config[demo_num_begin]['marker'], markersize=4)\n",
    "  print(rerr_list)\n",
    "\n",
    "fill_y = np.linspace(0.001,0.2, 100)\n",
    "plt.fill_betweenx(fill_y, 0 * fill_y + 40, 0 * fill_y + 50, alpha=0.3, color='red', label='training region')\n",
    "plt.xlabel('number of key-value pairs in each condition/QoI')\n",
    "plt.ylabel('relative error')\n",
    "# plt.xticks(len_list, [str(this_len) for this_len in len_list])\n",
    "plt.legend()\n",
    "plt.ylim(0.005,0.11)\n",
    "plt.tight_layout()\n",
    "plt.savefig(f'{this_analysis_folder}/length_err_{equation}.pdf')\n",
    "plt.close('all')"
   ]
  }
 ],
 "metadata": {
  "kernelspec": {
   "display_name": "jaxcuda",
   "language": "python",
   "name": "python3"
  },
  "language_info": {
   "codemirror_mode": {
    "name": "ipython",
    "version": 3
   },
   "file_extension": ".py",
   "mimetype": "text/x-python",
   "name": "python",
   "nbconvert_exporter": "python",
   "pygments_lexer": "ipython3",
   "version": "3.10.9"
  },
  "orig_nbformat": 4
 },
 "nbformat": 4,
 "nbformat_minor": 2
}
